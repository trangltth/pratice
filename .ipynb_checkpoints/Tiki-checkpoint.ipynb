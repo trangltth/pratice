{
 "cells": [
  {
   "cell_type": "code",
   "execution_count": 2,
   "metadata": {},
   "outputs": [
    {
     "name": "stdout",
     "output_type": "stream",
     "text": [
      "data before:  (300000, 8)\n",
      "data after:  (279621, 8)\n",
      "Index(['Bách Hóa Online', 'Bảo hiểm', 'Dịch vụ', 'Ebook', 'Gia dụng',\n",
      "       'Laptop & PC', 'Làm đẹp - Sức khỏe', 'Máy ảnh & Phụ kiện', 'Mẹ và Bé',\n",
      "       'Nhà cửa đời sống', 'Promotion', 'Quà Lưu Niệm', 'Sách Tiếng Anh',\n",
      "       'Sách Tiếng Việt', 'Thiết bị IT', 'Thiết bị số - Phụ kiện số',\n",
      "       'Thể Thao & Dã Ngoại', 'Thời trang', 'Tivi - Audio', 'VAS',\n",
      "       'Voucher - Dịch vụ', 'Văn phòng phẩm', 'Xe máy, ô tô, xe đạp',\n",
      "       'Điện lạnh', 'Điện thoại - Máy tính bảng'],\n",
      "      dtype='object', name='merchant')\n"
     ]
    },
    {
     "name": "stderr",
     "output_type": "stream",
     "text": [
      "/home/trang/.local/lib/python3.6/site-packages/IPython/core/interactiveshell.py:3063: DtypeWarning: Columns (6) have mixed types.Specify dtype option on import or set low_memory=False.\n",
      "  interactivity=interactivity, compiler=compiler, result=result)\n"
     ]
    }
   ],
   "source": [
    "import numpy as np\n",
    "import pandas as pd\n",
    "import math\n",
    "\n",
    "data = pd.read_csv('/home/trang/Downloads/case_study.csv')\n",
    "\n",
    "# 1\n",
    "print('data before: ', data.shape)\n",
    "\n",
    "data = data.dropna(subset=['merchant'])\n",
    "\n",
    "print('data after: ', data.shape)\n",
    "\n",
    "print(data.groupby('merchant').count().index)"
   ]
  },
  {
   "cell_type": "code",
   "execution_count": 3,
   "metadata": {},
   "outputs": [
    {
     "name": "stdout",
     "output_type": "stream",
     "text": [
      "total by action type:  action_type\n",
      "3    234471\n",
      "6     45150\n",
      "Name: fullVisitorid, dtype: int64\n",
      "total by acion type, date and hour:  date        hour  action_type\n",
      "2018-09-10  0     3               745\n",
      "                  6               108\n",
      "            1     3               278\n",
      "                  6                50\n",
      "            2     3               146\n",
      "                                 ... \n",
      "2018-09-19  21    6               262\n",
      "            22    3              1602\n",
      "                  6               268\n",
      "            23    3              1012\n",
      "                  6               154\n",
      "Name: fullVisitorid, Length: 479, dtype: int64\n"
     ]
    }
   ],
   "source": [
    "# 2\n",
    "print('total by action type: ', data.groupby('action_type').count()['fullVisitorid'])\n",
    "data['date'] = data['interaction_time'].astype('datetime64[ns]').dt.date\n",
    "data['hour'] = data['interaction_time'].astype('datetime64[ns]').dt.hour\n",
    "print('total by acion type, date and hour: ', data.groupby(['date','hour','action_type']).count()['fullVisitorid'])"
   ]
  },
  {
   "cell_type": "code",
   "execution_count": 4,
   "metadata": {},
   "outputs": [
    {
     "data": {
      "text/plain": [
       "91"
      ]
     },
     "execution_count": 4,
     "metadata": {},
     "output_type": "execute_result"
    }
   ],
   "source": [
    "### 3\n",
    "columns = ['fullVisitorid', 'interaction_time', 'productSKU', 'action_type']\n",
    "start_time = '2018-01-01'\n",
    "end_time = '2018-10-01'\n",
    "\n",
    "data[columns].sort_values(columns)\n",
    "data[['fullVisitorid', 'interaction_time', 'productSKU', 'action_type']].groupby(['fullVisitorid', 'interaction_time', 'productSKU'])['action_type'].nunique().sort_values(ascending=False)\n",
    "total_user = data[(data['interaction_time'] >= start_time) & (data['interaction_time'] <= end_time)]['fullVisitorid'].nunique()\n",
    "add_to_cart_user = data[(data['action_type'] == 3) & (data['interaction_time'] >= start_time) & (data['interaction_time'] <= end_time)]['fullVisitorid'].nunique()\n",
    "abandonment_rate = round(add_to_cart_user*100 / total_user)\n",
    "abandonment_rate"
   ]
  },
  {
   "cell_type": "code",
   "execution_count": 6,
   "metadata": {},
   "outputs": [
    {
     "data": {
      "text/plain": [
       "merchant\n",
       "Bách Hóa Online               14306\n",
       "Dịch vụ                         566\n",
       "Gia dụng                       5964\n",
       "Laptop & PC                     997\n",
       "Làm đẹp - Sức khỏe            21737\n",
       "Máy ảnh & Phụ kiện             1451\n",
       "Mẹ và Bé                      14707\n",
       "Nhà cửa đời sống              14840\n",
       "Promotion                        89\n",
       "Quà Lưu Niệm                   1511\n",
       "Sách Tiếng Anh                 3482\n",
       "Sách Tiếng Việt               89455\n",
       "Thiết bị IT                    2635\n",
       "Thiết bị số - Phụ kiện số     18127\n",
       "Thể Thao & Dã Ngoại            5385\n",
       "Thời trang                    15097\n",
       "Tivi - Audio                   1837\n",
       "Voucher - Dịch vụ               998\n",
       "Văn phòng phẩm                 9429\n",
       "Xe máy, ô tô, xe đạp           2979\n",
       "Điện lạnh                      1302\n",
       "Điện thoại - Máy tính bảng     7577\n",
       "Name: fullVisitorid, dtype: int64"
      ]
     },
     "execution_count": 6,
     "metadata": {},
     "output_type": "execute_result"
    }
   ],
   "source": [
    "#4.\n",
    "# I don't think there is any relation between abandonment_rate and merchant\n",
    "# print(data[(data['action_type'] == 6) & (data['interaction_time'] >= start_time) & (data['interaction_time'] <= end_time)].groupby('merchant').count()['fullVisitorid'])\n",
    "data[(data['action_type'] == 3) & (data['interaction_time'] >= start_time) & (data['interaction_time'] <= end_time)].groupby('merchant').count()['fullVisitorid']\n"
   ]
  },
  {
   "cell_type": "code",
   "execution_count": 8,
   "metadata": {},
   "outputs": [
    {
     "data": {
      "text/plain": [
       "merchant\n",
       "Bách Hóa Online                16404\n",
       "Bảo hiểm                           4\n",
       "Dịch vụ                          841\n",
       "Ebook                             17\n",
       "Gia dụng                        7005\n",
       "Laptop & PC                     1053\n",
       "Làm đẹp - Sức khỏe             25234\n",
       "Máy ảnh & Phụ kiện              1669\n",
       "Mẹ và Bé                       17691\n",
       "Nhà cửa đời sống               17507\n",
       "Promotion                        980\n",
       "Quà Lưu Niệm                    1775\n",
       "Sách Tiếng Anh                  4166\n",
       "Sách Tiếng Việt               108784\n",
       "Thiết bị IT                     3156\n",
       "Thiết bị số - Phụ kiện số      21143\n",
       "Thể Thao & Dã Ngoại             6014\n",
       "Thời trang                     16677\n",
       "Tivi - Audio                    2029\n",
       "VAS                             2479\n",
       "Voucher - Dịch vụ               1248\n",
       "Văn phòng phẩm                 10968\n",
       "Xe máy, ô tô, xe đạp            3208\n",
       "Điện lạnh                       1425\n",
       "Điện thoại - Máy tính bảng      8144\n",
       "Name: fullVisitorid, dtype: int64"
      ]
     },
     "execution_count": 8,
     "metadata": {},
     "output_type": "execute_result"
    }
   ],
   "source": [
    "#5. how frequence product/merchant\n",
    "# ngoài promotion merchant, tất cả những merchant còn lại đều có phần lớn số sản phảm không được mua. Như vậy abadonment_rate vẫn không có quan hệ đến merchant\n",
    "data.groupby('merchant').count()['fullVisitorid']"
   ]
  },
  {
   "cell_type": "code",
   "execution_count": null,
   "metadata": {},
   "outputs": [],
   "source": []
  }
 ],
 "metadata": {
  "kernelspec": {
   "display_name": "Python 3",
   "language": "python",
   "name": "python3"
  },
  "language_info": {
   "codemirror_mode": {
    "name": "ipython",
    "version": 3
   },
   "file_extension": ".py",
   "mimetype": "text/x-python",
   "name": "python",
   "nbconvert_exporter": "python",
   "pygments_lexer": "ipython3",
   "version": "3.6.9"
  }
 },
 "nbformat": 4,
 "nbformat_minor": 4
}
